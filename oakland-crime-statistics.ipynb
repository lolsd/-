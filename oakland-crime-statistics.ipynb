{
 "cells": [
  {
   "cell_type": "code",
   "execution_count": 1,
   "metadata": {},
   "outputs": [],
   "source": [
    "import matplotlib as mpl\n",
    "import matplotlib.pyplot as plt\n",
    "%matplotlib inline\n",
    "import numpy as np\n",
    "import pandas as pd\n",
    "import os"
   ]
  },
  {
   "cell_type": "markdown",
   "metadata": {},
   "source": [
    "# Data  preparation"
   ]
  },
  {
   "cell_type": "code",
   "execution_count": 2,
   "metadata": {},
   "outputs": [],
   "source": [
    "filepath = r'C:\\Users\\chd\\Desktop\\data\\oakland-crime-statistics-2011-to-2016'"
   ]
  },
  {
   "cell_type": "code",
   "execution_count": 3,
   "metadata": {},
   "outputs": [],
   "source": [
    "data = pd.read_csv(os.path.join(filepath,'records-for-2016.csv'))"
   ]
  },
  {
   "cell_type": "code",
   "execution_count": 4,
   "metadata": {},
   "outputs": [
    {
     "data": {
      "text/plain": [
       "<bound method NDFrame.head of        Agency              Create Time                 Location Area Id Beat  \\\n",
       "0          OP  2016-01-01T00:00:57.000         ST&MARKET ST          P1  05X   \n",
       "1          OP  2016-01-01T00:01:25.000       AV&HAMILTON ST          P3  26Y   \n",
       "2          OP  2016-01-01T00:01:43.000       ST&CHESTNUT ST          P1  02X   \n",
       "3          OP  2016-01-01T00:01:48.000           WALLACE ST          P2  18Y   \n",
       "4          OP  2016-01-01T00:02:05.000              90TH AV          P3  34X   \n",
       "...       ...                      ...                      ...     ...  ...   \n",
       "110823     OP  2016-07-31T23:45:50.000  WHITMORE ST&WOOD ST          P1  02Y   \n",
       "110824     OP  2016-07-31T23:50:54.000      WHITTLE 69TH AV          P3  26Y   \n",
       "110825     OP  2016-07-31T23:56:29.000    WHITTLE LOOMIS CT          P2  19X   \n",
       "110826     OP  2016-07-31T23:57:31.000       WYMAN LACEY AV          P3  29X   \n",
       "110827    NaN                      NaN                              NaN  NaN   \n",
       "\n",
       "        Priority Incident Type Id Incident Type Description     Event Number  \\\n",
       "0            2.0            415GS              415 GUNSHOTS  LOP160101000003   \n",
       "1            2.0            415GS              415 GUNSHOTS  LOP160101000005   \n",
       "2            2.0            415GS              415 GUNSHOTS  LOP160101000008   \n",
       "3            2.0            415GS              415 GUNSHOTS  LOP160101000007   \n",
       "4            2.0            415GS              415 GUNSHOTS  LOP160101000009   \n",
       "...          ...              ...                       ...              ...   \n",
       "110823       2.0            415GS              415 GUNSHOTS  LOP160731000892   \n",
       "110824       2.0             415N      DISTURBANCE-NEIGHBOR  LOP160731000893   \n",
       "110825       2.0              912         SUSPICIOUS PERSON  LOP160731000895   \n",
       "110826       2.0              415                415 FAMILY  LOP160731000897   \n",
       "110827       NaN              NaN                       NaN              NaN   \n",
       "\n",
       "                    Closed Time  \n",
       "0       2016-01-01T00:32:30.000  \n",
       "1       2016-01-01T00:48:23.000  \n",
       "2       2016-01-01T00:21:24.000  \n",
       "3       2016-01-01T01:15:03.000  \n",
       "4       2016-01-01T00:54:52.000  \n",
       "...                         ...  \n",
       "110823  2016-07-31T23:58:03.000  \n",
       "110824  2016-08-01T00:08:00.000  \n",
       "110825  2016-08-01T01:33:31.000  \n",
       "110826  2016-08-01T00:16:16.000  \n",
       "110827                      NaN  \n",
       "\n",
       "[110828 rows x 10 columns]>"
      ]
     },
     "execution_count": 4,
     "metadata": {},
     "output_type": "execute_result"
    }
   ],
   "source": [
    "data.head"
   ]
  },
  {
   "cell_type": "code",
   "execution_count": 5,
   "metadata": {},
   "outputs": [
    {
     "name": "stdout",
     "output_type": "stream",
     "text": [
      "Index(['Agency', 'Create Time', 'Location', 'Area Id', 'Beat', 'Priority',\n",
      "       'Incident Type Id', 'Incident Type Description', 'Event Number',\n",
      "       'Closed Time'],\n",
      "      dtype='object')\n"
     ]
    }
   ],
   "source": [
    "attribute = data.columns\n",
    "print(attribute)"
   ]
  },
  {
   "cell_type": "markdown",
   "metadata": {},
   "source": [
    "# data summary"
   ]
  },
  {
   "cell_type": "code",
   "execution_count": 6,
   "metadata": {},
   "outputs": [
    {
     "name": "stdout",
     "output_type": "stream",
     "text": [
      "标称属性: ['Agency', 'Create Time', 'Location', 'Area Id', 'Beat', 'Incident Type Id', 'Incident Type Description', 'Event Number', 'Closed Time']\n",
      "数值属性: ['Priority']\n"
     ]
    }
   ],
   "source": [
    "nominal = [attribute[i] for i in [0,1,2,3,4,6,7,8,9]]\n",
    "print('标称属性:',nominal)\n",
    "numeric = [attribute[i] for i in [5]]\n",
    "print('数值属性:',numeric)"
   ]
  },
  {
   "cell_type": "code",
   "execution_count": 7,
   "metadata": {},
   "outputs": [
    {
     "name": "stdout",
     "output_type": "stream",
     "text": [
      "Priority 五数概括: [1.0, 2.0, 2.0, 2.0, 2.0]\n"
     ]
    }
   ],
   "source": [
    "for a  in numeric:\n",
    "    n = data[a].shape[0]-1\n",
    "    split = [int(i*n) for i in [0,0.25,0.5,0.75,1]] \n",
    "    data[a] = data[a].fillna(data[a].mean())\n",
    "    num = [data[a].sort_values().iloc[i]  for i in split]\n",
    "    print(a+' 五数概括:', num)"
   ]
  },
  {
   "cell_type": "code",
   "execution_count": 9,
   "metadata": {},
   "outputs": [
    {
     "data": {
      "text/plain": [
       "<matplotlib.axes._subplots.AxesSubplot at 0x18085726308>"
      ]
     },
     "execution_count": 9,
     "metadata": {},
     "output_type": "execute_result"
    },
    {
     "data": {
      "image/png": "[encoded data removed]",
      "text/plain": [
       "<Figure size 432x288 with 1 Axes>"
      ]
     },
     "metadata": {
      "needs_background": "light"
     },
     "output_type": "display_data"
    }
   ],
   "source": [
    "data[numeric].boxplot()  # 盒图"
   ]
  },
  {
   "cell_type": "code",
   "execution_count": 10,
   "metadata": {},
   "outputs": [
    {
     "data": {
      "text/plain": [
       "array([[<matplotlib.axes._subplots.AxesSubplot object at 0x000001808571C548>]],\n",
       "      dtype=object)"
      ]
     },
     "execution_count": 10,
     "metadata": {},
     "output_type": "execute_result"
    },
    {
     "data": {
      "image/png": "[encoded data removed]",
      "text/plain": [
       "<Figure size 432x288 with 1 Axes>"
      ]
     },
     "metadata": {
      "needs_background": "light"
     },
     "output_type": "display_data"
    }
   ],
   "source": [
    "data[numeric].hist() #直方图"
   ]
  },
  {
   "cell_type": "markdown",
   "metadata": {},
   "source": [
    "# Incomplete (Missing) Data\n",
    "\n",
    "\n",
    "1  Ignore the tuple"
   ]
  },
  {
   "cell_type": "code",
   "execution_count": 12,
   "metadata": {},
   "outputs": [],
   "source": [
    "data = pd.read_csv(os.path.join(filepath,'records-for-2016.csv'))\n",
    "d1 = data.dropna()                        #删除缺失数据"
   ]
  },
  {
   "cell_type": "code",
   "execution_count": 13,
   "metadata": {},
   "outputs": [
    {
     "data": {
      "text/plain": [
       "array([[<matplotlib.axes._subplots.AxesSubplot object at 0x0000018083E65C48>]],\n",
       "      dtype=object)"
      ]
     },
     "execution_count": 13,
     "metadata": {},
     "output_type": "execute_result"
    },
    {
     "data": {
      "image/png": "[encoded data removed]",
      "text/plain": [
       "<Figure size 432x288 with 1 Axes>"
      ]
     },
     "metadata": {
      "needs_background": "light"
     },
     "output_type": "display_data"
    }
   ],
   "source": [
    "d1[numeric].hist()"
   ]
  },
  {
   "cell_type": "code",
   "execution_count": 14,
   "metadata": {},
   "outputs": [
    {
     "data": {
      "text/plain": [
       "<matplotlib.axes._subplots.AxesSubplot at 0x18082ac8508>"
      ]
     },
     "execution_count": 14,
     "metadata": {},
     "output_type": "execute_result"
    },
    {
     "data": {
      "image/png": "[encoded data removed]",
      "text/plain": [
       "<Figure size 432x288 with 1 Axes>"
      ]
     },
     "metadata": {
      "needs_background": "light"
     },
     "output_type": "display_data"
    }
   ],
   "source": [
    "d1[numeric].boxplot()"
   ]
  },
  {
   "cell_type": "markdown",
   "metadata": {},
   "source": [
    "2、 Replace with the most frequent data"
   ]
  },
  {
   "cell_type": "code",
   "execution_count": 17,
   "metadata": {},
   "outputs": [],
   "source": [
    "d2 = pd.read_csv(os.path.join(filepath,'records-for-2016.csv'))\n",
    "for i in range(1,9):\n",
    "    d2[attribute[i]] = d2[attribute[i]].fillna(value= d2[attribute[i]].value_counts().index[0])  #用最高频率替换"
   ]
  },
  {
   "cell_type": "code",
   "execution_count": 18,
   "metadata": {},
   "outputs": [
    {
     "data": {
      "text/plain": [
       "<matplotlib.axes._subplots.AxesSubplot at 0x18082b2bfc8>"
      ]
     },
     "execution_count": 18,
     "metadata": {},
     "output_type": "execute_result"
    },
    {
     "data": {
      "image/png": "[encoded data removed]",
      "text/plain": [
       "<Figure size 432x288 with 1 Axes>"
      ]
     },
     "metadata": {
      "needs_background": "light"
     },
     "output_type": "display_data"
    }
   ],
   "source": [
    "d2[numeric].boxplot()"
   ]
  },
  {
   "cell_type": "code",
   "execution_count": 19,
   "metadata": {},
   "outputs": [
    {
     "data": {
      "text/plain": [
       "array([[<matplotlib.axes._subplots.AxesSubplot object at 0x000001808B87AF88>]],\n",
       "      dtype=object)"
      ]
     },
     "execution_count": 19,
     "metadata": {},
     "output_type": "execute_result"
    },
    {
     "data": {
      "image/png": "[encoded data removed]",
      "text/plain": [
       "<Figure size 432x288 with 1 Axes>"
      ]
     },
     "metadata": {
      "needs_background": "light"
     },
     "output_type": "display_data"
    }
   ],
   "source": [
    "d2[numeric].hist()"
   ]
  },
  {
   "cell_type": "markdown",
   "metadata": {},
   "source": [
    "3 Replace with related attribute\n",
    "\n",
    "\n",
    "There are only two numeric attributes so this substitution does not exist\n"
   ]
  },
  {
   "cell_type": "markdown",
   "metadata": {},
   "source": [
    "4  Replace with similar data"
   ]
  },
  {
   "cell_type": "code",
   "execution_count": 18,
   "metadata": {},
   "outputs": [],
   "source": [
    "d4 = pd.read_csv(os.path.join(filepath,'records-for-2016.csv'))   #相似数据替换"
   ]
  },
  {
   "cell_type": "markdown",
   "metadata": {},
   "source": [
    "123"
   ]
  },
  {
   "cell_type": "code",
   "execution_count": 19,
   "metadata": {},
   "outputs": [],
   "source": [
    "def sim(x):\n",
    "    maxsim = 0\n",
    "    idx = -1\n",
    "    for i in range(50):\n",
    "        tmp = 0\n",
    "        flag = 1\n",
    "        for j in range(11):\n",
    "            if x.iloc[j] == d4.iloc[i,j]:\n",
    "                tmp+=1\n",
    "        if tmp>maxsim:\n",
    "            idx = d4.iloc[i]\n",
    "            maxsim = tmp\n",
    "        if maxsim>=3:\n",
    "            break\n",
    "            \n",
    "    for i in range(11):\n",
    "        if pd.isna(x.iloc[j]):\n",
    "            x.iloc[i] = idx.iloc[i]\n",
    "    return x"
   ]
  },
  {
   "cell_type": "code",
   "execution_count": 28,
   "metadata": {},
   "outputs": [
    {
     "name": "stderr",
     "output_type": "stream",
     "text": [
      "\n",
      "100%|█████████████████████████████████████████████████████████████████████████████████| 10/10 [00:00<00:00, 435.50it/s]\n"
     ]
    }
   ],
   "source": [
    "for i in tqdm.tqdm(range(d4.shape[0])):\n",
    "    x = d4.iloc[i]\n",
    "    if x.isnull().any():\n",
    "        simx = sim(x)\n",
    "        d4.iloc[i] = simx"
   ]
  },
  {
   "cell_type": "code",
   "execution_count": 20,
   "metadata": {},
   "outputs": [
    {
     "data": {
      "text/plain": [
       "<matplotlib.axes._subplots.AxesSubplot at 0x2bec37270c8>"
      ]
     },
     "execution_count": 20,
     "metadata": {},
     "output_type": "execute_result"
    },
    {
     "data": {
      "image/png": "[encoded data removed]",
      "text/plain": [
       "<Figure size 432x288 with 1 Axes>"
      ]
     },
     "metadata": {
      "needs_background": "light"
     },
     "output_type": "display_data"
    }
   ],
   "source": [
    "d4[numeric].boxplot()"
   ]
  },
  {
   "cell_type": "code",
   "execution_count": 21,
   "metadata": {},
   "outputs": [
    {
     "data": {
      "text/plain": [
       "array([[<matplotlib.axes._subplots.AxesSubplot object at 0x000002BEBFBA7988>]],\n",
       "      dtype=object)"
      ]
     },
     "execution_count": 21,
     "metadata": {},
     "output_type": "execute_result"
    },
    {
     "data": {
      "image/png": "[encoded data removed]",
      "text/plain": [
       "<Figure size 432x288 with 1 Axes>"
      ]
     },
     "metadata": {
      "needs_background": "light"
     },
     "output_type": "display_data"
    }
   ],
   "source": [
    "d4[numeric].hist()"
   ]
  },
  {
   "cell_type": "code",
   "execution_count": null,
   "metadata": {},
   "outputs": [],
   "source": []
  },
  {
   "cell_type": "code",
   "execution_count": null,
   "metadata": {},
   "outputs": [],
   "source": []
  }
 ],
 "metadata": {
  "kernelspec": {
   "display_name": "Python 3",
   "language": "python",
   "name": "python3"
  },
  "language_info": {
   "codemirror_mode": {
    "name": "ipython",
    "version": 3
   },
   "file_extension": ".py",
   "mimetype": "text/x-python",
   "name": "python",
   "nbconvert_exporter": "python",
   "pygments_lexer": "ipython3",
   "version": "3.7.4"
  }
 },
 "nbformat": 4,
 "nbformat_minor": 2
}
